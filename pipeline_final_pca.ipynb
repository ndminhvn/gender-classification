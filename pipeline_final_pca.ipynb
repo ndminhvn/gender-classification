{
 "cells": [
  {
   "cell_type": "markdown",
   "metadata": {},
   "source": [
    "# Pipeline in Jupyter Notebook"
   ]
  },
  {
   "cell_type": "code",
   "execution_count": 1,
   "metadata": {},
   "outputs": [
    {
     "name": "stderr",
     "output_type": "stream",
     "text": [
      "/Users/ndminh/Minh/USA/University/University of Houston/Study/MSCS/Spring 2025/COSC 6342/Project/gender-classification/venv/lib/python3.13/site-packages/tqdm/auto.py:21: TqdmWarning: IProgress not found. Please update jupyter and ipywidgets. See https://ipywidgets.readthedocs.io/en/stable/user_install.html\n",
      "  from .autonotebook import tqdm as notebook_tqdm\n",
      "[nltk_data] Downloading package punkt_tab to venv/nltk_data...\n",
      "[nltk_data]   Package punkt_tab is already up-to-date!\n",
      "[nltk_data] Downloading package stopwords to venv/nltk_data...\n",
      "[nltk_data]   Package stopwords is already up-to-date!\n",
      "[nltk_data] Downloading package wordnet to venv/nltk_data...\n",
      "[nltk_data]   Package wordnet is already up-to-date!\n",
      "[nltk_data] Downloading package omw-1.4 to venv/nltk_data...\n",
      "[nltk_data]   Package omw-1.4 is already up-to-date!\n"
     ]
    }
   ],
   "source": [
    "import os\n",
    "import time\n",
    "\n",
    "import torch\n",
    "import torch.optim as optim\n",
    "from torch.utils.data import DataLoader, random_split\n",
    "from transformers import BertTokenizer\n",
    "import seaborn as sns\n",
    "import matplotlib.pyplot as plt\n",
    "from sklearn.model_selection import train_test_split\n",
    "\n",
    "from src.data_preprocessing import (\n",
    "    load_data,\n",
    "    preprocess_data,\n",
    "    preprocess_blog_data,\n",
    "    save_processed_data,\n",
    ")\n",
    "from src.dataset import SupervisedTextDataset, SupervisedContrastiveTextDataset\n",
    "from src.contrastive_learning import supervised_contrastive_pretrain\n",
    "from src.evaluation import evaluate_classifier\n",
    "from src.model import BertContrastiveModel\n",
    "from src.supervised_fine_tune import fine_tune_supervised"
   ]
  },
  {
   "cell_type": "code",
   "execution_count": 2,
   "metadata": {},
   "outputs": [],
   "source": [
    "# Start the timer\n",
    "start_time = time.time()"
   ]
  },
  {
   "cell_type": "code",
   "execution_count": 3,
   "metadata": {},
   "outputs": [
    {
     "name": "stdout",
     "output_type": "stream",
     "text": [
      "Using device: mps\n"
     ]
    }
   ],
   "source": [
    "if torch.backends.mps.is_available():\n",
    "    device = torch.device(\"mps\")\n",
    "elif torch.cuda.is_available():\n",
    "    device = torch.device(\"cuda\")\n",
    "else:\n",
    "    device = torch.device(\"cpu\")\n",
    "print(f\"Using device: {device}\")"
   ]
  },
  {
   "cell_type": "markdown",
   "metadata": {},
   "source": [
    "### Preprocess the data"
   ]
  },
  {
   "cell_type": "code",
   "execution_count": 4,
   "metadata": {},
   "outputs": [],
   "source": [
    "# Load and preprocess data\n",
    "raw_data_path = \"data/raw/gender-classification.csv\"\n",
    "processed_data_path = \"data/processed\"\n",
    "processed_data_filename = \"processed_data.csv\"\n",
    "text_column = \"text\"\n",
    "label_column = \"gender\""
   ]
  },
  {
   "cell_type": "code",
   "execution_count": 5,
   "metadata": {},
   "outputs": [],
   "source": [
    "# Load and preprocess external data (blogs data)\n",
    "external_data_path = \"data/raw/blogtext.csv\"\n",
    "processed_external_data_filename = \"processed_blog_data.csv\"\n",
    "external_text_column = \"text\"\n",
    "external_label_column = \"gender\""
   ]
  },
  {
   "cell_type": "code",
   "execution_count": 6,
   "metadata": {},
   "outputs": [],
   "source": [
    "# # Load raw data (csv file)\n",
    "# raw_data = load_data(raw_data_path)\n",
    "\n",
    "# # Preprocess data\n",
    "# preprocessed_data = preprocess_data(raw_data, text_column, label_column)\n",
    "\n",
    "# # Save preprocessed data to a csv file\n",
    "# save_processed_data(preprocessed_data, processed_data_path, processed_data_filename)"
   ]
  },
  {
   "cell_type": "code",
   "execution_count": 7,
   "metadata": {},
   "outputs": [],
   "source": [
    "# Load blogtext data\n",
    "# raw_external_data = load_data(external_data_path)"
   ]
  },
  {
   "cell_type": "code",
   "execution_count": 8,
   "metadata": {},
   "outputs": [],
   "source": [
    "# Preprocess blogtext data\n",
    "# preprocessed_external_data = preprocess_blog_data(\n",
    "#     raw_external_data, external_text_column, external_label_column\n",
    "# )\n",
    "\n",
    "# # Save preprocessed blogtext data to a csv file\n",
    "# save_processed_data(\n",
    "#     preprocessed_external_data, processed_data_path, processed_external_data_filename\n",
    "# )"
   ]
  },
  {
   "cell_type": "code",
   "execution_count": 9,
   "metadata": {},
   "outputs": [
    {
     "name": "stdout",
     "output_type": "stream",
     "text": [
      "Data loaded successfully from: data/processed/processed_data.csv\n"
     ]
    }
   ],
   "source": [
    "# Load preprocessed data\n",
    "data_df = load_data(f\"{processed_data_path}/{processed_data_filename}\")"
   ]
  },
  {
   "cell_type": "code",
   "execution_count": 10,
   "metadata": {},
   "outputs": [
    {
     "data": {
      "application/vnd.microsoft.datawrangler.viewer.v0+json": {
       "columns": [
        {
         "name": "index",
         "rawType": "int64",
         "type": "integer"
        },
        {
         "name": "text",
         "rawType": "object",
         "type": "string"
        },
        {
         "name": "gender",
         "rawType": "int64",
         "type": "integer"
        }
       ],
       "conversionMethod": "pd.DataFrame",
       "ref": "fee6f5bd-a3d4-4b4b-9433-8cdc6e9dfd01",
       "rows": [
        [
         "0",
         "long time see like always rewriting scratch couple times nevertheless still java uses metropolis sampling help poor path tracing converge btw mlt yesterday evening 2 beers ballmer peak altough implementation still fresh easily outperforms standard path tracing seen especially difficult caustics involved ive implemented spectral rendering easy actually cause computations wavelengths linear like rgb realised even feel physically correct whats point 3d applications operating rgb color space cant represent rgb color spectrum interchangeably approximate long im running physical simulation something dont see benefits please correct im wrong thus abandoned",
         "0"
        ],
        [
         "1",
         "guest demo eric iversons itty bitty search february 16th 2010 daniel tunkelang respond im back vacation still digging way everything thats piled ive offline catch thought id share demo eric iverson gracious enough share uses yahoo boss support exploratory search experience top general web search engine perform query application retrieves set related term candidates using yahoos key terms api scores term dividing occurrence count within result set global occurrence counta relevance measure similar one former colleagues used endeca enterprise contexts try demo rough edges produces nice resultsespecially considering simplicity approach heres example used application explore learn something new started information retrieval noticed interactive information retrieval top term used refine refinement suggestions looked familiar mebut unfamiliar name caught attention anton leuski following curiosity refined looking results immediately saw leuski done work evaluating document clustering interactive information retrieval exploration made clear someone whose work get knowcheck home page cant promise youll productive experience encourage try erics demo simple examples like remind value pursuing hcir open web speaking hcir 2010 works well flesh details next weeks course ill share",
         "0"
        ],
        [
         "2",
         "moved cheese world developing areas create difference competitive world need change change way take things rather change atleast try change try routine work evryday expect get things fail losing job loss business would upset discouraged frustrated keep hanging thing start complaining change good lets welcome wondering wat cheese actually moved cheese well moved cheese simple parable reveals profound thoughts enlightening story four characters live maze look cheese nourish make happy story two mice called sniff scurry two little men smaller size similar us people names hem haw cheese metaphor want life whether good job loving relationship money possession health spiritual peace mind maze look want organisation work family community live everyday mice men spent time maze looking special cheese mice rodent brains men used brains filled many beliefs common thing rodents men tat every morning went search cheese maze confusing network paths corridors chambers delicious cheese also dark corners blind alleys leading nowhere easy place get lost found way secret chambers enjoy better life much searching found chamber c enormous amount richest quality cheeserodents used trial error method racing corridors men used brains beliefs experience cheese made happy men rodents enjoyed cheese everyday almost many many days finally one day tat cheese run isnt left anymore rodents observed minute details cheese getting decreased day day ready situation ready hunt new cheese otherhand men based beliefs wondered moved cheese hem haw kept waiting cheese old place fearing might get lost maze didnt start find way new cheese started starving waiting old place kept hemming hawing old cheese couldnt find increased frustration also created fear might happend get lost finding new cheese started evaluating situation chamber c waited everyday returned homes hungry afraid change meanwhilerodents found new way found chamber n cheese older one everytime haw wanted go search new cheese hem would stop one day utter despair find new cheese haw started search leaving behind friend hem old chamber wrote wall tat friend something think donot change become extinct haw order overcome fear getting lost maze reminded would werent afraid continued search found dark alley could smell nice cheese afraid might end started walking towards moved felt free rather young move beyond fear feel free didnt find cheese little pieces left near chamber someone already visited chamber completed gulped cheese leftover kept friend pocket wondered hem still chamber c throughtout search kept noticing changes everytime feeling happy way back friend hem haw thinking hadnt moved find new cheese quicker let go old cheese sooner find new cheese safer search maze remain cheeseless situation old beliefs donot lead new cheese haw came back friend hew told experience expecting turn searching hew didnt left returned new treasure coming told way felt shared cheese wid haw started journey back maze see find enjoy new cheese change course noticing small changes early helps adapt bigger changes come finally haw saw bigger chamber wid variety cheese wid enormous quantity happy find rodents der enjoying cheese time haw ready change observing minute changes tat could act fast days passed one fine day heard footsteps guessed hew happy finally started searching new cheese haw could gone hew say new cheese chamber n didnt since one cannot infuse seeds overcome fear accept change inself evryone der let us anticipate change adapt change quickly enjoy change ready change quicklyagain scurry sniffy hem haw accepting changes like scurry sniffy else learning advantages accepting changes else hanging question moved cheese best",
         "0"
        ],
        [
         "3",
         "yesterday attended biweekly meeting informal uc berkeley group devoted python science py4science organized fernando perez format honor visit series 4minute lightning talks various projects using python scientific world berkeley elsewhere followed hourlong qa session meant didnt presentation still got interact audience hour ideal format blown away wide variety python use scientific work looks like python extensions like numpy becoming standard tool many sciences need process large amounts data neuroimaging astronomy list topics presented though order presented describing python software ive added names affiliations insofar managed get thanks jarrod millman providing complete list projects easily found googling included hyperlinks except cases slides emphasized see also blog comments",
         "0"
        ],
        [
         "4",
         "liam nothing like natalie natalie never went draws cabinets always good liam bit adventurous always picks cabinets hardest put back together hubby started nutrisystem little section kitchen well liam doesnt like order trashes set least 10 times day yes need buy one locks doors one chemicals none food mistake sure meantime better document know boy college missing cleaning yeah thats still decided wanted start yoga ive thinking quite time weekend bought pair work shorts tank went class close birkham yoga hot one 100 degree sweaty room one almost died yoga wonderful continue sure heat room unbearable best part teacher specifically came said",
         "1"
        ]
       ],
       "shape": {
        "columns": 2,
        "rows": 5
       }
      },
      "text/html": [
       "<div>\n",
       "<style scoped>\n",
       "    .dataframe tbody tr th:only-of-type {\n",
       "        vertical-align: middle;\n",
       "    }\n",
       "\n",
       "    .dataframe tbody tr th {\n",
       "        vertical-align: top;\n",
       "    }\n",
       "\n",
       "    .dataframe thead th {\n",
       "        text-align: right;\n",
       "    }\n",
       "</style>\n",
       "<table border=\"1\" class=\"dataframe\">\n",
       "  <thead>\n",
       "    <tr style=\"text-align: right;\">\n",
       "      <th></th>\n",
       "      <th>text</th>\n",
       "      <th>gender</th>\n",
       "    </tr>\n",
       "  </thead>\n",
       "  <tbody>\n",
       "    <tr>\n",
       "      <th>0</th>\n",
       "      <td>long time see like always rewriting scratch co...</td>\n",
       "      <td>0</td>\n",
       "    </tr>\n",
       "    <tr>\n",
       "      <th>1</th>\n",
       "      <td>guest demo eric iversons itty bitty search feb...</td>\n",
       "      <td>0</td>\n",
       "    </tr>\n",
       "    <tr>\n",
       "      <th>2</th>\n",
       "      <td>moved cheese world developing areas create dif...</td>\n",
       "      <td>0</td>\n",
       "    </tr>\n",
       "    <tr>\n",
       "      <th>3</th>\n",
       "      <td>yesterday attended biweekly meeting informal u...</td>\n",
       "      <td>0</td>\n",
       "    </tr>\n",
       "    <tr>\n",
       "      <th>4</th>\n",
       "      <td>liam nothing like natalie natalie never went d...</td>\n",
       "      <td>1</td>\n",
       "    </tr>\n",
       "  </tbody>\n",
       "</table>\n",
       "</div>"
      ],
      "text/plain": [
       "                                                text  gender\n",
       "0  long time see like always rewriting scratch co...       0\n",
       "1  guest demo eric iversons itty bitty search feb...       0\n",
       "2  moved cheese world developing areas create dif...       0\n",
       "3  yesterday attended biweekly meeting informal u...       0\n",
       "4  liam nothing like natalie natalie never went d...       1"
      ]
     },
     "execution_count": 10,
     "metadata": {},
     "output_type": "execute_result"
    }
   ],
   "source": [
    "data_df.head()"
   ]
  },
  {
   "cell_type": "code",
   "execution_count": 11,
   "metadata": {},
   "outputs": [
    {
     "name": "stdout",
     "output_type": "stream",
     "text": [
      "<class 'pandas.core.frame.DataFrame'>\n",
      "RangeIndex: 3226 entries, 0 to 3225\n",
      "Data columns (total 2 columns):\n",
      " #   Column  Non-Null Count  Dtype \n",
      "---  ------  --------------  ----- \n",
      " 0   text    3226 non-null   object\n",
      " 1   gender  3226 non-null   int64 \n",
      "dtypes: int64(1), object(1)\n",
      "memory usage: 50.5+ KB\n"
     ]
    },
    {
     "data": {
      "text/plain": [
       "text      0\n",
       "gender    0\n",
       "dtype: int64"
      ]
     },
     "execution_count": 11,
     "metadata": {},
     "output_type": "execute_result"
    }
   ],
   "source": [
    "data_df.info()\n",
    "data_df.describe()\n",
    "data_df.isnull().sum()"
   ]
  },
  {
   "cell_type": "code",
   "execution_count": 12,
   "metadata": {},
   "outputs": [
    {
     "name": "stdout",
     "output_type": "stream",
     "text": [
      "Data loaded successfully from: data/processed/processed_blog_data.csv\n"
     ]
    }
   ],
   "source": [
    "# Load processed blogtext data\n",
    "blog_data_df = load_data(\n",
    "    f\"{processed_data_path}/{processed_external_data_filename}\"\n",
    ")"
   ]
  },
  {
   "cell_type": "code",
   "execution_count": 13,
   "metadata": {},
   "outputs": [
    {
     "data": {
      "application/vnd.microsoft.datawrangler.viewer.v0+json": {
       "columns": [
        {
         "name": "index",
         "rawType": "int64",
         "type": "integer"
        },
        {
         "name": "text",
         "rawType": "object",
         "type": "string"
        },
        {
         "name": "gender",
         "rawType": "int64",
         "type": "integer"
        }
       ],
       "conversionMethod": "pd.DataFrame",
       "ref": "0c894ec6-044b-4241-82c0-b56076ae870c",
       "rows": [
        [
         "0",
         "info found 100 pages 45 mb pdf files wait untill team leader processed learns html",
         "0"
        ],
        [
         "1",
         "team members drewes van der laag urllink mail ruiyu xie urllink mail bryan aaldering urllink mail",
         "0"
        ],
        [
         "2",
         "het kader van kernfusie op aarde maak je eigen waterstofbom build hbomb ascotttartarusuwaeduau andrew scott newsgroups rechumor subject build hbomb humorous date 7 feb 1994 074114 gmt organization university western australia original file dated 12th november 1990 seemed transcript seven days article poorly formatted corrupted added text examine microscope malleable like gold missing anyone full text please distribute responsible accuracy information converted html dionisioinfinetcom 111398 little spellchecking minor edits stolen urllink reformatted html validates xhtml 10 strict build hbomb making owning hbomb kind challenge real americans seek wants passive victim nuclear war little effort active participant bomb shelters losers wants huddle together underground eating canned spam winners want push button making hbomb big step nuclear assertiveness training called taking charge sure youll enjoy risks heady thrill playing nuclear chicken introduction feds clamped progressive magazine attempting publish article manufacture hydrogen bomb piqued curiosity really true atomic hydrogen bomb technology simple could build hbomb kitchen seven days decided find food editor barbara ehrenreich investigative reporter peter biskind photographer jane melnick nuclear scientist michio kaku given three days cook workable hbomb decided share culinary secrets seven days supports nuclear terrorism dont would prefer die slowly familiar poisons like lowlevel radiation microwaves ddt dbcp aflatoxins pbbs pbcs food dyes rather unexpectedly say hostage latvian nationalist brandishing homemade bomb view real terrorists governments american soviet french chinese british hoarding hbombs use worse still governments us french german eagerly peddling advanced nuclear technology countries like south africa brazil argentina make bombs bombs used worlds bigtime nuclear peddlers along corporate suppliers like general electric westinghouse gulf oil thank gagging progressive national security backyard bomb shelters like news heart successful hbomb successful abomb youve got abombs made rest frosting cake set detonate theyll start hydrogenfusion reaction part 1 making bomb step 1 getting ingredients uranium basic ingredient abomb uranium atoms nucleus splits apart releases tremendous amount energy size emits neutrons go split nearby uranium nuclei releasing energy called chain reaction atoms split matter converted energy according einsteins equation emc2 better way mark birthday atomic fireworks two kinds isotopes uranium rare u235 used bombs common heavier useless u238 natural uranium contains less 1 percent u235 order usable bombs enriched 90 percent u235 10 percent u238 plutonium239 also used bombs substitute u235 ten pounds u235 slightly less plutonium necessary bomb less ten pounds wont give critical mass purifying enriching naturally occurring uranium likely first big hurdle infinitely easy steal readytouse enriched uranium plutonium enrich stealing uranium hard sounds least three sources enriched uranium plutonium enriched uranium manufactured gaseous diffusion plant portsmouth ohio shipped 10 liter bottles airplane trucks conversion plants turn uranium oxide uranium metal 10 liter bottle contains 7 kilograms u235 20 bottles typical shipment conversion facilities exist hematite missouri apollo pennsylvania erwin tennessee kerrmcgee plant crescent oklahoma karen silkwood worked conversion plant lost 40 lbs plutonium enriched uranium stolen plants fuelfabricating plants like new san diego lynchburg virginia former kerrmcgee supervisor james v smith asked silkwood trial security precautions plant prevent theft testified none kind guards fences nothing plutonium obtained places like united nuclear pawling new york nuclear fuel services erwin tennessee general electric pleasanton california westinghouse cheswick pennsylvania nuclear materials equipment corporation numec leechburg pennsylvania plants hanfford washington morris illinois according rolling stone magazine israelis involved theft plutonium numec finally steal enriched uranium plutonium enroute conversion plants fuel fabricating plants usually transported air truck form uranium oxide brownish powder resembling instant coffee metal coming small chunks called broken buttons forms shipped small cans stacked 5inch cylinders braced welded struts center ordinary 55 gallon steel drums drums weigh 100 pounds clearly marked fissible material danger plutonium typical shipment might go enrichment plant portsmouth ohio conversion plant hematite missouri kansas city truck would flown los angeles trucked general atomic plant san diego plans general atomic plant file nuclear regulatory commissions reading room 1717 h street nw washington xerox machine provided convenience public cant get hold enriched uranium youll settle commercial grade 20 percent u235 stolen university reactors type called triga mark ii security even casual commercial plants stealing uranium seems tacky buy unenriched uranium available chemical supply house 23 pound commercial grade 3 20 percent enriched available 40 pound gulf atomic youll enrich quite frankly something pain ass youll need start little 50 pounds commercialgrade uranium 20 percent u235 best need 10 pounds u235 little kitchentable chemistry youll able convert solid uranium oxide youve purchased liquid form youve done youll able separate u235 youll need u238 first pour gallons concentrated hydrofluoric acid uranium oxide converting uranium tetrafluoride safety note concentrated hydrofluoric acid corrosive eat way glass store plastic used 1gallon plastic milk containers convert uranium tetrafluoride uranium hexafluoride gaseous form uranium convenient separating isotope u235 u238 get hexafluoride form bubble fluorine gas container uranium tetrafluoride fluorine available pressurized tanks chemicalsupply firms careful use though fluorine several times deadly chlorine classic world war poison gas chemists recommend carry step stove hood kind used remove unpleasant cooking odors youve done chemistry right generous supply uranium hexafluoride ready enriching old horseandbuggy days abomb manufacture enrichment carried passing uranium hexafluoride hundreds miles pipes tubes membranes u235 eventually separated u238 gaseousdiffusion process called difficult timeconsuming expensive gaseousdiffusion plants cover hundreds acres cost neighborhood 2billion forget easier cheaper ways enrich uranium first transform gas liquid subjecting pressure use bicycle pump make simple home centrifuge fill standardsize bucket onequarter full liquid uranium hexafluoride attach sixfoot rope bucket handle swing rope attached bucket around head fast possible keep 45 minutes slow gradually gently put bucket floor u235 lighter risen top skimmed like cream repeat step required 10 pounds uranium safety note dont put enriched uranium hexafluoride one bucket use least two three buckets keep separate corners room prevent premature buildup critical mass time convert enriched uranium back metal form easily enough accomplished spooning several ladlefuls calcium available tablet form drugstore bucket uranium calcium react uranium hexafluoride produce calcium fluoride colorless salt easily separated pure enriched uranium metal precautions uranium dangerously radioactive amounts youll handling plan make one bomb might wise wear gloves lead apron kind buy dental supply stores plutonium one toxic substances known inhaled thousandth gram cause massive fibrosis lungs painful way go even millionth gram lungs cause cancer eaten plutonium metabolized like calcium goes straight bones gives alpha particles preventing bone marrow manufacturing red blood cells best way avoid inhaling plutonium hold breath handling difficult wear mask avoid ingesting plutonium orally follow simple rule never make abomb empty stomach find dozing youre working begin glow dark might wise take blood count prick finger sterile pin place drop blood microscope slide cover cover slip examine microscope best results obtained early morning get leukemia immature cells released bloodstream usually number white cells increases though increase might take almost 2 weeks red blood cells look kind like donuts without hole slightly smaller white cells nucleus immature red cells look similar white cells ie slightly larger nucleus 1 white cell including immature ones 400 red cells start worry depending upon plans eventual use bomb short life expectancy might problem step 2 assembling abomb youve acquired enriched uranium thats left assemble abomb go find couple stainless steel salad bowls also want separate 10 pounds u235 two hunks keep apart idea push half uranium inside bowl take one hunk uranium beat inside first bowl uranium malleable like gold trouble hammering bowl get good fit take another fivepound hunk uranium fit second stainless steel bowl two bowls u235 subcritical masses brought together forcefully provide critical mass makes abomb go keep respectful distance apart working dont want go critical least yet hollow body old vacuum cleaner place two hemispherical bowls inside open ends facing less seven inches apart using masking tape set position reason steel bowls vacuum cleaner case youre wondering help reflect neutrons back uranium efficient explosion loose neutron useless neutron abomb pioneers used say far abomb goes youre almost done final problem figure get two u235 hemispheres smash sufficient force set truly effective fission reaction almost type explosive used drive together gunpowder example easily made home potassium nitrate sulfur carbon get blasting caps tnt buy steal construction site best c4 plastic explosive mold around bowls fairly safe work might wise shape around extra salad bowl another room fit uraniumpacked bowls particularly true winter stray static electrical charge might induce ignition c4 responsible bomb maker considers impolite accidentally destroy neighborhood absolutely necessary explosives place need hook simple detonation device batteries switch wire remember though essential two charges one side casing go simultaneously put whole thing casing old hoover vacuum cleaner youre finished part process rest easy step 3 make abombs following directions word wise wastes abomb completed youll pile moderately fatal radioactive wastes like u238 dangerous get rid flush leftovers toilet dont worry polluting ocean already much radioactive waste bucketfuls wont make waves whatsoever youre fastidious type kind never leaves gum seat movies seal nasty stuff coffee cans bury backyard like uncle sam neighbor kids habit trampling lawn tell play waste youll soon find theyre spending time bed going first class youre like us youre feeling economic pinch youll want make bomb inexpensively possible consonant course reasonable yield recipe weve given budgetpleasing hbomb frills flourishes simple 5megaton bomb capable wiping new york metropolitan area san francisco bay area boston dont forget hbomb good abombs want spend little money punchup abomb considerably instead centrifuging uranium hand buy commercial centrifuge fisher scientific sells one 1000 also might want fussier design hiroshima bomb relatively crude one fissioned 1 percent uranium yielded 13 kilotons order fission uranium force explosive trigger needs evenly diffused around sphere pressure exerted every point sphere simultaneously technique producing sort simultaneous detonation fashioning explosives lenses government accused julius ethel rosenberg trying steal part 2 putting hbomb together heart hbomb fusion process several abombs detonated way create extremely high temperature 100 million degrees c necessary fuse lithium deuteride lid helium lithium nucleus slams deuterium nucleus two helium nuclei created happens enough deuterium nuclei rapidly enough result enormous amount energy energy hbomb dont worry stealing lithium deuteride purchased chemicalsupply house costs 1000 pound budget wont allow substitute lithium hydride 40 pound need least 100 pounds corrosive toxic powder careful place lithium deuteride hydride glass jars surround four abombs casings attach detonator go simultaneously container whole thing problem placed anywhere inside old stereo console discarded refrigerator etc detonator sets four abombs eight hemispheres fissionable material slam time creating four critical masses four detonations raise temperature lithium deuteride 100 million degrees c fast enough billionths second lithium blown neighborhood nuclei time fuse result least 1000 times punch puny abomb leveled hiroshima 20 million tons tnt vs 20 thousand tons part 3 bomb fully assembled hbomb housed attractive console choice may wondering every family answer question according tastes preferences may want explore possibilities successfully pioneered american government 1 sell bomb make pile money days rising inflation increasing unemployment uncertain economic outlook businesses make much sense weapons production career forecast cloudy bomb sales may sure way avoid humiliation receiving welfare unemployment regardless present income level home hbomb business invaluable income supplement certainly profitable alternative selling tupperware pirated girl scout cookies unfortunately family bomb business big government already cornered large part world market mean shortage potential customers raid entebee waterloo hijacking many nationalist groups alert new means get message across theyd jump chance get hold hbomb emerging nations cant ante enough rice sugar buy reactor ge westinghouse also shopping around may wonder ethics selling nations groups whose goals may disapprove take tip government forget ideology cash counts remember hbomb sales way escalating almost like chain reaction suppose make sale south yemen believe soviet puppet well within days discrete inquiries north yemen possibly saudis egyptians ethiopians well expected similarly sale ira generate sale ulster government sale tanzanians bring ugandans running forth doesnt matter side youre many sides dont forget possibility repeat sales customer experience us ussr shown individual nation potentially infinite need hbombs customer matter small ever many 2 use bomb home many families attracted hbomb simply deterrent discrete sticker door living room window saying home protected hbomb discourage irs investigators census takers jehovahs witnesses youll surprised fast crime rate go property values go news gets home hbomb owner youll find unexpected leverage neighborhood disputes everything parking places stereo noise levels school tax rates relax enjoy pride excitement home hbomb ownership lets honest hbomb isnt everyone frankly people cant handle break hives mention megadeath fallout radiation sickness following quiz help find whether takes home hbomb ownership answer yes six questions youre emotionally eligible join nuclear club conventional weapon may cup tea try botulismtoxin laser rays nerve gas 1 ignore demands others 2 subscribe one following soldier fortune hustler popular mechanics self 3 though many interesting acquaintances best friend 4 know say say hello seldom interested pursuing conversation 5 seen movie deer hunter 6 know everyone winner want resent whiners 7 one following handgun video game trash compactor snowmobile 8 convinced leukemia psychosomatic 9 aware vegetarians sexually impotent 10 read evidence solar energy communist conspiracy myths nuclear war ever since first mushroom cloud hiroshima ushered atomic age small group naysayers doommongers lobbied campaigned demonstrated convince americans hbomb ownership along nuclear power dangerous unhealthy using virtual stranglehold media people tried discredit everything nuclear energy war vastly overrated risks nuclear bombs left many americans feeling demoralized indecisive sure truth lies well myths facts myth nuclear exchange earth longer suitable human habitation fact completely false according one scientist quoted john mcpees curve binding energy largest bomb ever exploded anywhere 60 megatons onethousandth force earthquake onethousandth force hurricane lived earthquakes hurricanes long time another scientist adds often assumed full blown nuclear war would end life earth far truth end life earth would take least thousand times total yield nuclear explosives existing world probably lot even humans succumbed many forms life would survive nuclear freeforall cockroaches certain forms bacteria lichens instance myth radiation bad fact everything bad much eat many bananas youll get stomachache get much sun get sunburned even skin cancer thing radiation much may make feel weather nuclear industry officials insist evidence lowlevel radiation really serious adverse effects highlevel radiation may bring unexpected benefits speeds evolution weeding unwanted genetic types creating new ones remember old saying two heads better one nearer home plain radiation get rid pesky crab grass weeds teenagers find brief exposure nuclear burst vaporizes acne skin blemishes many survivors hiroshima bomb found free skin attendant problems forever hope clears misconceptions may enjoy hbomb",
         "0"
        ],
        [
         "3",
         "testing testing",
         "0"
        ],
        [
         "4",
         "thanks yahoos toolbar capture urls popupswhich means show cool links korean pop kpop audio video without need relate instructions like go site click popaudio button choose without ado link 24hour kpop urllink audio urllink video streaming enjoy",
         "0"
        ]
       ],
       "shape": {
        "columns": 2,
        "rows": 5
       }
      },
      "text/html": [
       "<div>\n",
       "<style scoped>\n",
       "    .dataframe tbody tr th:only-of-type {\n",
       "        vertical-align: middle;\n",
       "    }\n",
       "\n",
       "    .dataframe tbody tr th {\n",
       "        vertical-align: top;\n",
       "    }\n",
       "\n",
       "    .dataframe thead th {\n",
       "        text-align: right;\n",
       "    }\n",
       "</style>\n",
       "<table border=\"1\" class=\"dataframe\">\n",
       "  <thead>\n",
       "    <tr style=\"text-align: right;\">\n",
       "      <th></th>\n",
       "      <th>text</th>\n",
       "      <th>gender</th>\n",
       "    </tr>\n",
       "  </thead>\n",
       "  <tbody>\n",
       "    <tr>\n",
       "      <th>0</th>\n",
       "      <td>info found 100 pages 45 mb pdf files wait unti...</td>\n",
       "      <td>0</td>\n",
       "    </tr>\n",
       "    <tr>\n",
       "      <th>1</th>\n",
       "      <td>team members drewes van der laag urllink mail ...</td>\n",
       "      <td>0</td>\n",
       "    </tr>\n",
       "    <tr>\n",
       "      <th>2</th>\n",
       "      <td>het kader van kernfusie op aarde maak je eigen...</td>\n",
       "      <td>0</td>\n",
       "    </tr>\n",
       "    <tr>\n",
       "      <th>3</th>\n",
       "      <td>testing testing</td>\n",
       "      <td>0</td>\n",
       "    </tr>\n",
       "    <tr>\n",
       "      <th>4</th>\n",
       "      <td>thanks yahoos toolbar capture urls popupswhich...</td>\n",
       "      <td>0</td>\n",
       "    </tr>\n",
       "  </tbody>\n",
       "</table>\n",
       "</div>"
      ],
      "text/plain": [
       "                                                text  gender\n",
       "0  info found 100 pages 45 mb pdf files wait unti...       0\n",
       "1  team members drewes van der laag urllink mail ...       0\n",
       "2  het kader van kernfusie op aarde maak je eigen...       0\n",
       "3                                    testing testing       0\n",
       "4  thanks yahoos toolbar capture urls popupswhich...       0"
      ]
     },
     "execution_count": 13,
     "metadata": {},
     "output_type": "execute_result"
    }
   ],
   "source": [
    "blog_data_df.head()"
   ]
  },
  {
   "cell_type": "code",
   "execution_count": 14,
   "metadata": {},
   "outputs": [
    {
     "name": "stdout",
     "output_type": "stream",
     "text": [
      "<class 'pandas.core.frame.DataFrame'>\n",
      "RangeIndex: 611652 entries, 0 to 611651\n",
      "Data columns (total 2 columns):\n",
      " #   Column  Non-Null Count   Dtype \n",
      "---  ------  --------------   ----- \n",
      " 0   text    611184 non-null  object\n",
      " 1   gender  611652 non-null  int64 \n",
      "dtypes: int64(1), object(1)\n",
      "memory usage: 9.3+ MB\n"
     ]
    },
    {
     "data": {
      "text/plain": [
       "text      468\n",
       "gender      0\n",
       "dtype: int64"
      ]
     },
     "execution_count": 14,
     "metadata": {},
     "output_type": "execute_result"
    }
   ],
   "source": [
    "blog_data_df.info()\n",
    "blog_data_df.describe()\n",
    "blog_data_df.isnull().sum()"
   ]
  },
  {
   "cell_type": "code",
   "execution_count": 15,
   "metadata": {},
   "outputs": [
    {
     "data": {
      "text/plain": [
       "text      0\n",
       "gender    0\n",
       "dtype: int64"
      ]
     },
     "execution_count": 15,
     "metadata": {},
     "output_type": "execute_result"
    }
   ],
   "source": [
    "blog_data_df.dropna(subset=[external_text_column], inplace=True)\n",
    "blog_data_df.isna().sum()"
   ]
  },
  {
   "cell_type": "code",
   "execution_count": 16,
   "metadata": {},
   "outputs": [
    {
     "name": "stdout",
     "output_type": "stream",
     "text": [
      "611184\n"
     ]
    }
   ],
   "source": [
    "print(len(blog_data_df))"
   ]
  },
  {
   "cell_type": "markdown",
   "metadata": {},
   "source": [
    "### Data Splitting"
   ]
  },
  {
   "cell_type": "code",
   "execution_count": 17,
   "metadata": {},
   "outputs": [
    {
     "name": "stdout",
     "output_type": "stream",
     "text": [
      "Data loaded and preprocessed.\n",
      "Number of samples: 3226\n",
      "Number of labels: 3226\n"
     ]
    }
   ],
   "source": [
    "# Texts will be used for contrastive learning\n",
    "texts = data_df[\"text\"].tolist()\n",
    "labels = data_df[\"gender\"].tolist()\n",
    "\n",
    "print(\"Data loaded and preprocessed.\")\n",
    "print(f\"Number of samples: {len(texts)}\")\n",
    "print(f\"Number of labels: {len(labels)}\")"
   ]
  },
  {
   "cell_type": "markdown",
   "metadata": {},
   "source": [
    "### Contrastive Learning\n",
    "Pre-train the model to learn the representation of the data in order to distinguish between similar and dissimilar data points."
   ]
  },
  {
   "cell_type": "code",
   "execution_count": 18,
   "metadata": {},
   "outputs": [],
   "source": [
    "# Initialize BERT tokenizer\n",
    "tokenizer = BertTokenizer.from_pretrained(\"bert-base-uncased\")"
   ]
  },
  {
   "cell_type": "code",
   "execution_count": 19,
   "metadata": {},
   "outputs": [
    {
     "name": "stdout",
     "output_type": "stream",
     "text": [
      "Blog data (external) loaded and preprocessed for contrastive learning.\n",
      "Number of samples for contrastive learning: 611184\n",
      "Number of labels for contrastive learning: 611184\n"
     ]
    }
   ],
   "source": [
    "# Extract texts and labels for supervised contrastive learning pre-training\n",
    "texts_ctr = blog_data_df[\"text\"].tolist()\n",
    "labels_ctr = blog_data_df[\"gender\"].tolist()\n",
    "\n",
    "print(\"Blog data (external) loaded and preprocessed for contrastive learning.\")\n",
    "print(f\"Number of samples for contrastive learning: {len(texts_ctr)}\")\n",
    "print(f\"Number of labels for contrastive learning: {len(labels_ctr)}\")"
   ]
  },
  {
   "cell_type": "code",
   "execution_count": 20,
   "metadata": {},
   "outputs": [
    {
     "name": "stdout",
     "output_type": "stream",
     "text": [
      "Number of samples for contrastive learning subset: 10000\n"
     ]
    }
   ],
   "source": [
    "# Test with subset of blog data (10K from 600k+)\n",
    "\n",
    "texts_ctr_subset, _, labels_ctr_subset, _ = train_test_split(\n",
    "    texts_ctr, labels_ctr, train_size=10000, stratify=labels_ctr, random_state=42\n",
    ")\n",
    "# texts_ctr_subset, _, labels_ctr_subset, _ = train_test_split(\n",
    "#     texts_ctr, labels_ctr, train_size=6000, stratify=labels_ctr, random_state=42\n",
    "# )\n",
    "print(f\"Number of samples for contrastive learning subset: {len(texts_ctr_subset)}\")"
   ]
  },
  {
   "cell_type": "code",
   "execution_count": 21,
   "metadata": {},
   "outputs": [
    {
     "data": {
      "text/plain": [
       "<Axes: ylabel='count'>"
      ]
     },
     "execution_count": 21,
     "metadata": {},
     "output_type": "execute_result"
    },
    {
     "data": {
      "image/png": "[encoded data removed]",
      "text/plain": [
       "<Figure size 640x480 with 1 Axes>"
      ]
     },
     "metadata": {},
     "output_type": "display_data"
    }
   ],
   "source": [
    "# Check the distribution of labels in the subset\n",
    "sns.countplot(x=labels_ctr_subset)"
   ]
  },
  {
   "cell_type": "code",
   "execution_count": 22,
   "metadata": {},
   "outputs": [
    {
     "name": "stdout",
     "output_type": "stream",
     "text": [
      "PCA model saved.\n"
     ]
    }
   ],
   "source": [
    "### PCA on external blog data\n",
    "import joblib\n",
    "import numpy as np\n",
    "from sklearn.decomposition import PCA\n",
    "\n",
    "\n",
    "# device = torch.device(\"mps\" if torch.backends.mps.is_available() else \"cpu\")\n",
    "model = BertContrastiveModel().to(device)\n",
    "model.eval()\n",
    "\n",
    "dataset = SupervisedTextDataset(texts=texts_ctr_subset, labels=labels_ctr_subset, tokenizer=tokenizer)\n",
    "loader = DataLoader(\n",
    "    dataset,\n",
    "    batch_size=32,\n",
    "    # batch_size=16,\n",
    "    shuffle=False,\n",
    ")\n",
    "\n",
    "all_pooled = []\n",
    "with torch.no_grad():\n",
    "    for batch in loader:\n",
    "        encoded, _ = batch\n",
    "        pooled = model.encode(\n",
    "            encoded[\"input_ids\"].to(device),\n",
    "            encoded[\"attention_mask\"].to(device),\n",
    "            encoded[\"token_type_ids\"].to(device),\n",
    "        )\n",
    "        all_pooled.append(pooled.cpu().numpy())\n",
    "        \n",
    "all_pooled = np.vstack(all_pooled) # shape (N, 768)\n",
    "\n",
    "# pca_full = PCA(n_components=768).fit(all_pooled)   # all_pooled: (N,768)\n",
    "# cumvar = np.cumsum(pca_full.explained_variance_ratio_)\n",
    "# # find smallest K where cumvar[K-1] >= desired_threshold\n",
    "# desired = 0.95  # 95% variance\n",
    "# K_95 = np.searchsorted(cumvar, desired) + 1\n",
    "# print(f\"Need {K_95} components to retain {desired*100:.0f}% of variance\")\n",
    "\n",
    "# Fit PCA\n",
    "# pca = PCA(n_components=256)\n",
    "pca = PCA(n_components=64)\n",
    "pca.fit(all_pooled)\n",
    "# Save PCA model\n",
    "# joblib.dump(pca, \"models/bert_pca_256.joblib\")\n",
    "joblib.dump(pca, \"models/bert_pca_64.joblib\")\n",
    "print(\"PCA model saved.\")"
   ]
  },
  {
   "cell_type": "code",
   "execution_count": 23,
   "metadata": {},
   "outputs": [
    {
     "name": "stdout",
     "output_type": "stream",
     "text": [
      "Contrastive dataset created (with data augmentation).\n"
     ]
    }
   ],
   "source": [
    "# Create a custom dataset for contrastive learning on the training set\n",
    "# This dataset will perform data augmentation on the input text samples\n",
    "# (1 original + 1 augmented sample per text)\n",
    "\n",
    "\n",
    "contrastive_dataset = SupervisedContrastiveTextDataset(\n",
    "    texts_ctr_subset,\n",
    "    labels_ctr_subset,\n",
    "    tokenizer,\n",
    "    max_length=128,\n",
    "    augment=True,\n",
    ")\n",
    "\n",
    "contrastive_loader = DataLoader(contrastive_dataset, batch_size=16, shuffle=True)\n",
    "# contrastive_loader = DataLoader(contrastive_dataset, batch_size=8, shuffle=True)\n",
    "\n",
    "# May change to a larger batch size to have more negative samples\n",
    "# for contrastive learning\n",
    "\n",
    "print(\"Contrastive dataset created (with data augmentation).\")"
   ]
  },
  {
   "cell_type": "code",
   "execution_count": 24,
   "metadata": {},
   "outputs": [
    {
     "name": "stdout",
     "output_type": "stream",
     "text": [
      "Model initialized and moved to device.\n"
     ]
    }
   ],
   "source": [
    "# Initialize our model: BERT encoder with projection and classifier heads\n",
    "model = BertContrastiveModel(proj_dim=64, num_labels=2, dropout_prob=0.3)\n",
    "# device = torch.device(\"cuda\" if torch.cuda.is_available() else \"cpu\")\n",
    "model.to(device)\n",
    "\n",
    "print(\"Model initialized and moved to device.\")"
   ]
  },
  {
   "cell_type": "code",
   "execution_count": 25,
   "metadata": {},
   "outputs": [
    {
     "name": "stdout",
     "output_type": "stream",
     "text": [
      "Supervised Contrastive Pre-training Epoch [1/5] Loss: 0.5511\n",
      "Supervised Contrastive Pre-training Epoch [2/5] Loss: 0.4727\n",
      "Supervised Contrastive Pre-training Epoch [3/5] Loss: 0.4484\n",
      "Supervised Contrastive Pre-training Epoch [4/5] Loss: 0.4262\n",
      "Supervised Contrastive Pre-training Epoch [5/5] Loss: 0.4084\n",
      "Model saved at models/bert_supervised_contrastive_pretrained_final_pca.pth\n",
      "Supervised Contrastive pre-training complete.\n",
      "Supervised Contrastive pre-training complete. Model saved.\n"
     ]
    }
   ],
   "source": [
    "##################################\n",
    "# CONTRASTIVE PRE-TRAINING PHASE\n",
    "##################################\n",
    "\n",
    "\n",
    "# Initialize the adam optimizer\n",
    "optimizer_ctr = optim.Adam(model.parameters(), lr=2e-5, weight_decay=1e-4)\n",
    "\n",
    "# Run supervised contrastive pre-training\n",
    "supervised_contrastive_pretrain(\n",
    "    model,\n",
    "    contrastive_loader,\n",
    "    optimizer_ctr,\n",
    "    device,\n",
    "    # temperature=0.5,\n",
    "    temperature=0.2,\n",
    "    num_epochs=5,\n",
    "    file_name=\"bert_supervised_contrastive_pretrained_final_pca.pth\",\n",
    ")\n",
    "\n",
    "print(\"Supervised Contrastive pre-training complete. Model saved.\")"
   ]
  },
  {
   "cell_type": "markdown",
   "metadata": {},
   "source": [
    "### Supervised Fine-tuning\n",
    "Fine-tune our pre-trained model on a classification task using labeled data."
   ]
  },
  {
   "cell_type": "code",
   "execution_count": 26,
   "metadata": {},
   "outputs": [
    {
     "name": "stdout",
     "output_type": "stream",
     "text": [
      "Data loaded and split into train, validation, and test sets.\n"
     ]
    }
   ],
   "source": [
    "# Create custom datasets for supervised training\n",
    "# This will not perform data augmentation on the input text samples\n",
    "\n",
    "supervised_dataset = SupervisedTextDataset(\n",
    "    texts, labels, tokenizer, max_length=128, augment=False\n",
    ")\n",
    "\n",
    "# Split data: 20% as test; from remaining, 20% as validation\n",
    "total_len = len(supervised_dataset)\n",
    "test_len = int(0.2 * total_len)\n",
    "remaining = total_len - test_len\n",
    "val_len = int(0.2 * remaining)\n",
    "train_len = remaining - val_len\n",
    "\n",
    "train_dataset, val_dataset, test_dataset = random_split(\n",
    "    supervised_dataset, [train_len, val_len, test_len]\n",
    ")\n",
    "\n",
    "batch_size = 8\n",
    "train_loader = DataLoader(train_dataset, batch_size=batch_size, shuffle=True)\n",
    "val_loader = DataLoader(val_dataset, batch_size=batch_size, shuffle=False)\n",
    "test_loader = DataLoader(test_dataset, batch_size=batch_size, shuffle=False)\n",
    "\n",
    "print(\"Data loaded and split into train, validation, and test sets.\")"
   ]
  },
  {
   "cell_type": "markdown",
   "metadata": {},
   "source": [
    "***NOTE: This is important to cool down the machine a bit before running the supervised fine-tuning. After the contrastive learning, the machine will need to \"take some rest\" before running the next heavy task.***"
   ]
  },
  {
   "cell_type": "markdown",
   "metadata": {},
   "source": [
    "*Just like a human brain, the machine needs to \"rest\" before running the next heavy task.*"
   ]
  },
  {
   "cell_type": "code",
   "execution_count": 27,
   "metadata": {},
   "outputs": [],
   "source": [
    "# Let computer cool down in 5 minutes with no activity\n",
    "# print(\"Cooling down for 2 minutes...\")\n",
    "# time.sleep(120)\n",
    "# print(\"Cool down complete. Resuming...\")"
   ]
  },
  {
   "cell_type": "code",
   "execution_count": 28,
   "metadata": {},
   "outputs": [
    {
     "name": "stdout",
     "output_type": "stream",
     "text": [
      "Loaded pre-trained supervised contrastive model weights.\n"
     ]
    }
   ],
   "source": [
    "# Initialize our BertContrastiveModel\n",
    "# model = BertContrastiveModel(proj_dim=64, num_labels=2, dropout_prob=0.3)\n",
    "# device = torch.device(\"cuda\" if torch.cuda.is_available() else \"cpu\")\n",
    "# model.to(device)\n",
    "\n",
    "# print(\"Model initialized and moved to device.\")\n",
    "\n",
    "# Load pre-trained contrastive model weights\n",
    "pre_trained_path = os.path.join(\"models\", \"bert_supervised_contrastive_pretrained_final_pca.pth\")\n",
    "# pre_trained_path = os.path.join(\"models\", \"bert_supervised_contrastive_pretrained_final_v4.pth\")\n",
    "\n",
    "# Check if the pre-trained model weights exist\n",
    "if not os.path.exists(pre_trained_path):\n",
    "    raise FileNotFoundError(\n",
    "        f\"Pre-trained model weights not found at {pre_trained_path}. Please run supervised contrastive pre-training first.\"\n",
    "    )\n",
    "\n",
    "model.load_state_dict(torch.load(pre_trained_path))\n",
    "\n",
    "print(\"Loaded pre-trained supervised contrastive model weights.\")"
   ]
  },
  {
   "cell_type": "code",
   "execution_count": 29,
   "metadata": {},
   "outputs": [
    {
     "name": "stdout",
     "output_type": "stream",
     "text": [
      "Epoch [1/10] - Train Loss: 0.6836, Val Loss: 0.6654, Val Acc: 0.5891\n",
      "Best validation accuracy updated: 0.5891\n",
      "Best supervised model updated and saved at models/best_bert_supervised_final_pca.pth\n",
      "Epoch [2/10] - Train Loss: 0.5957, Val Loss: 0.6648, Val Acc: 0.6221\n",
      "Best validation accuracy updated: 0.6221\n",
      "Best supervised model updated and saved at models/best_bert_supervised_final_pca.pth\n",
      "Epoch [3/10] - Train Loss: 0.4539, Val Loss: 0.6492, Val Acc: 0.6589\n",
      "Best validation accuracy updated: 0.6589\n",
      "Best supervised model updated and saved at models/best_bert_supervised_final_pca.pth\n",
      "Epoch [4/10] - Train Loss: 0.2358, Val Loss: 0.7766, Val Acc: 0.6764\n",
      "Best validation accuracy updated: 0.6764\n",
      "Best supervised model updated and saved at models/best_bert_supervised_final_pca.pth\n",
      "Epoch [5/10] - Train Loss: 0.0766, Val Loss: 1.0571, Val Acc: 0.6996\n",
      "Best validation accuracy updated: 0.6996\n",
      "Best supervised model updated and saved at models/best_bert_supervised_final_pca.pth\n",
      "Validation loss exceeds 1.0571053161524062. Early stopping triggered.\n",
      "Supervised fine-tuning complete.\n",
      "Best validation accuracy: 0.6996\n",
      "Supervised fine-tuning complete. Model saved.\n"
     ]
    }
   ],
   "source": [
    "################################\n",
    "# SUPERVISED FINE-TUNING PHASE\n",
    "################################\n",
    "\n",
    "\n",
    "# Initialize the adam optimizer\n",
    "optimizer_ft = optim.AdamW(model.parameters(), lr=2e-5, weight_decay=1e-4)\n",
    "\n",
    "# Perform model fine-tuning on labeled dataset\n",
    "history, best_val_acc = fine_tune_supervised(\n",
    "    model,\n",
    "    train_loader,\n",
    "    val_loader,\n",
    "    optimizer_ft,\n",
    "    device,\n",
    "    num_epochs=10,\n",
    "    patience=3,\n",
    "    file_name=\"best_bert_supervised_final_pca.pth\",\n",
    ")\n",
    "\n",
    "print(f\"Best validation accuracy: {best_val_acc:.4f}\")\n",
    "print(\"Supervised fine-tuning complete. Model saved.\")"
   ]
  },
  {
   "cell_type": "code",
   "execution_count": 30,
   "metadata": {},
   "outputs": [],
   "source": [
    "###################################\n",
    "# Plot supervised learning curves\n",
    "###################################\n",
    "def plot_learning_curves(history):\n",
    "    epochs = range(1, len(history[\"train_loss\"]) + 1)\n",
    "\n",
    "    plt.figure(figsize=(12, 5))\n",
    "\n",
    "    # Plot Loss\n",
    "    plt.subplot(1, 2, 1)\n",
    "    plt.plot(epochs, history[\"train_loss\"], label=\"Train Loss\")\n",
    "    plt.plot(epochs, history[\"val_loss\"], label=\"Validation Loss\")\n",
    "    plt.xlabel(\"Epochs\")\n",
    "    plt.ylabel(\"Loss\")\n",
    "    plt.legend([\"Train Loss\", \"Val Loss\"], loc=\"upper right\")\n",
    "    plt.title(\"Model Training/Validation Loss\")\n",
    "\n",
    "    # Plot Accuracy\n",
    "    plt.subplot(1, 2, 2)\n",
    "    plt.plot(epochs, history[\"val_accuracy\"], label=\"Validation Accuracy\")\n",
    "    plt.xlabel(\"Epochs\")\n",
    "    plt.ylabel(\"Accuracy\")\n",
    "    plt.legend()\n",
    "    plt.title(\"Learning Curve: Validation Accuracy\")\n",
    "\n",
    "    plt.tight_layout()\n",
    "    plt.show()"
   ]
  },
  {
   "cell_type": "code",
   "execution_count": 31,
   "metadata": {},
   "outputs": [
    {
     "data": {
      "image/png": "[encoded data removed]",
      "text/plain": [
       "<Figure size 1200x500 with 2 Axes>"
      ]
     },
     "metadata": {},
     "output_type": "display_data"
    }
   ],
   "source": [
    "plot_learning_curves(history)"
   ]
  },
  {
   "cell_type": "markdown",
   "metadata": {},
   "source": [
    "***NOTE: This is important to cool down the machine again a bit before running the evaluation. After the contrastive learning and supervised fine-tuning, the machine is probably very \"tired\" and will need to \"take some rest\" before running the evaluation.***"
   ]
  },
  {
   "cell_type": "code",
   "execution_count": 32,
   "metadata": {},
   "outputs": [
    {
     "name": "stdout",
     "output_type": "stream",
     "text": [
      "Cooling down for 1 minutes...\n",
      "Cool down complete. Resuming...\n"
     ]
    }
   ],
   "source": [
    "# Let computer cool down in 5 minutes with no activity\n",
    "# print(\"Cooling down for 5 minutes...\")\n",
    "print(\"Cooling down for 1 minutes...\")\n",
    "# time.sleep(300)\n",
    "time.sleep(60)\n",
    "print(\"Cool down complete. Resuming...\")"
   ]
  },
  {
   "cell_type": "markdown",
   "metadata": {},
   "source": [
    "### Evaluation\n",
    "Evaluate the model on a train/validation/test set to measure its performance."
   ]
  },
  {
   "cell_type": "code",
   "execution_count": 33,
   "metadata": {},
   "outputs": [],
   "source": [
    "# Initialize our BertContrastiveModel\n",
    "# model = BertContrastiveModel(proj_dim=64, num_labels=2, dropout_prob=0.3)\n",
    "# device = torch.device(\"cuda\" if torch.cuda.is_available() else \"cpu\")\n",
    "# model.to(device)\n",
    "\n",
    "# print(\"Model initialized and moved to device.\")"
   ]
  },
  {
   "cell_type": "code",
   "execution_count": 34,
   "metadata": {},
   "outputs": [
    {
     "name": "stdout",
     "output_type": "stream",
     "text": [
      "Loaded best supervised model weights.\n"
     ]
    }
   ],
   "source": [
    "# Load the supervised model weights\n",
    "supervised_model_path = os.path.join(\"models\", \"best_bert_supervised_final_pca.pth\")\n",
    "# Check if the supervised model weights exist\n",
    "if not os.path.exists(supervised_model_path):\n",
    "    raise FileNotFoundError(\n",
    "        f\"Supervised model weights not found at {supervised_model_path}. Please run supervised fine-tuning first.\"\n",
    "    )\n",
    "\n",
    "# model.load_state_dict(torch.load(supervised_model_path))\n",
    "\n",
    "# Load up the model (entire model, not just weights)\n",
    "model = torch.load(supervised_model_path, weights_only=False)\n",
    "\n",
    "print(\"Loaded best supervised model weights.\")"
   ]
  },
  {
   "cell_type": "code",
   "execution_count": 35,
   "metadata": {},
   "outputs": [],
   "source": [
    "# current_state = model.state_dict()\n",
    "# print(\"Current state of the model:\")\n",
    "# for key, value in current_state.items():\n",
    "#     print(f\"{key}: {value.size()}\")"
   ]
  },
  {
   "cell_type": "code",
   "execution_count": 36,
   "metadata": {},
   "outputs": [],
   "source": [
    "def print_eval_results(results):\n",
    "    \"\"\"Prints the evaluation results.\n",
    "\n",
    "    Args:\n",
    "        results (dict): A dictionary containing evaluation metrics including\n",
    "            loss, accuracy, f1 score, confusion matrix, and classification report.\n",
    "    \"\"\"\n",
    "    print(f\"Loss: {results['loss']:.4f}\")\n",
    "    print(f\"Accuracy: {results['accuracy']:.4f}\")\n",
    "    print(f\"F1 Score: {results['f1']:.4f}\")\n",
    "    print(\"Confusion Matrix:\")\n",
    "    print(results[\"confusion_matrix\"])\n",
    "    print(\"Classification Report:\")\n",
    "    print(results[\"report\"])\n",
    "    print(\"=\" * 30)"
   ]
  },
  {
   "cell_type": "code",
   "execution_count": 37,
   "metadata": {},
   "outputs": [
    {
     "name": "stdout",
     "output_type": "stream",
     "text": [
      "Evaluating on train set:\n",
      "Loss: 0.0187\n",
      "Accuracy: 0.9976\n",
      "F1 Score: 0.9976\n",
      "Classification Report:\n",
      "              precision    recall  f1-score   support\n",
      "\n",
      "           M       1.00      1.00      1.00      1059\n",
      "           F       1.00      1.00      1.00      1006\n",
      "\n",
      "    accuracy                           1.00      2065\n",
      "   macro avg       1.00      1.00      1.00      2065\n",
      "weighted avg       1.00      1.00      1.00      2065\n",
      "\n"
     ]
    },
    {
     "data": {
      "image/png": "[encoded data removed]",
      "text/plain": [
       "<Figure size 640x480 with 2 Axes>"
      ]
     },
     "metadata": {},
     "output_type": "display_data"
    },
    {
     "name": "stdout",
     "output_type": "stream",
     "text": [
      "==============================\n"
     ]
    }
   ],
   "source": [
    "########################################\n",
    "# Evaluate the model on the all 3 sets\n",
    "#######################################\n",
    "\n",
    "print(\"Evaluating on train set:\")\n",
    "train_eval = evaluate_classifier(model, train_loader, device)\n",
    "print(f\"Loss: {train_eval['loss']:.4f}\")\n",
    "print(f\"Accuracy: {train_eval['accuracy']:.4f}\")\n",
    "print(f\"F1 Score: {train_eval['f1']:.4f}\")\n",
    "print(\"Classification Report:\")\n",
    "print(train_eval[\"report\"])\n",
    "\n",
    "sns.heatmap(\n",
    "    train_eval[\"confusion_matrix\"],\n",
    "    annot=True,\n",
    "    fmt=\"d\",\n",
    "    cmap=\"Blues\",\n",
    "    xticklabels=[\"M\", \"F\"],\n",
    "    yticklabels=[\"M\", \"F\"],\n",
    ")\n",
    "plt.xlabel(\"Predicted\")\n",
    "plt.ylabel(\"Actual\")\n",
    "plt.title(\"Train Confusion Matrix\")\n",
    "plt.show()\n",
    "\n",
    "print(\"=\" * 30)"
   ]
  },
  {
   "cell_type": "code",
   "execution_count": 38,
   "metadata": {},
   "outputs": [
    {
     "name": "stdout",
     "output_type": "stream",
     "text": [
      "Evaluating on validation set:\n",
      "Loss: 1.0571\n",
      "Accuracy: 0.6996\n",
      "F1 Score: 0.6997\n",
      "Classification Report:\n",
      "              precision    recall  f1-score   support\n",
      "\n",
      "           M       0.72      0.71      0.71       272\n",
      "           F       0.68      0.69      0.69       244\n",
      "\n",
      "    accuracy                           0.70       516\n",
      "   macro avg       0.70      0.70      0.70       516\n",
      "weighted avg       0.70      0.70      0.70       516\n",
      "\n"
     ]
    },
    {
     "data": {
      "image/png": "[encoded data removed]",
      "text/plain": [
       "<Figure size 640x480 with 2 Axes>"
      ]
     },
     "metadata": {},
     "output_type": "display_data"
    }
   ],
   "source": [
    "print(\"Evaluating on validation set:\")\n",
    "val_eval = evaluate_classifier(model, val_loader, device)\n",
    "print(f\"Loss: {val_eval['loss']:.4f}\")\n",
    "print(f\"Accuracy: {val_eval['accuracy']:.4f}\")\n",
    "print(f\"F1 Score: {val_eval['f1']:.4f}\")\n",
    "print(\"Classification Report:\")\n",
    "print(val_eval[\"report\"])\n",
    "\n",
    "sns.heatmap(\n",
    "    val_eval[\"confusion_matrix\"],\n",
    "    annot=True,\n",
    "    fmt=\"d\",\n",
    "    cmap=\"Blues\",\n",
    "    xticklabels=[\"M\", \"F\"],\n",
    "    yticklabels=[\"M\", \"F\"],\n",
    ")\n",
    "plt.xlabel(\"Predicted\")\n",
    "plt.ylabel(\"Actual\")\n",
    "plt.title(\"Validation Confusion Matrix\")\n",
    "plt.show()"
   ]
  },
  {
   "cell_type": "code",
   "execution_count": 39,
   "metadata": {},
   "outputs": [
    {
     "name": "stdout",
     "output_type": "stream",
     "text": [
      "Evaluating on test set:\n",
      "Loss: 1.0499\n",
      "Accuracy: 0.7101\n",
      "F1 Score: 0.7101\n",
      "Classification Report:\n",
      "              precision    recall  f1-score   support\n",
      "\n",
      "           M       0.73      0.73      0.73       347\n",
      "           F       0.69      0.69      0.69       298\n",
      "\n",
      "    accuracy                           0.71       645\n",
      "   macro avg       0.71      0.71      0.71       645\n",
      "weighted avg       0.71      0.71      0.71       645\n",
      "\n"
     ]
    },
    {
     "data": {
      "image/png": "[encoded data removed]",
      "text/plain": [
       "<Figure size 640x480 with 2 Axes>"
      ]
     },
     "metadata": {},
     "output_type": "display_data"
    },
    {
     "name": "stdout",
     "output_type": "stream",
     "text": [
      "==============================\n",
      "Evaluation complete.\n"
     ]
    }
   ],
   "source": [
    "print(\"Evaluating on test set:\")\n",
    "test_eval = evaluate_classifier(model, test_loader, device)\n",
    "print(f\"Loss: {test_eval['loss']:.4f}\")\n",
    "print(f\"Accuracy: {test_eval['accuracy']:.4f}\")\n",
    "print(f\"F1 Score: {test_eval['f1']:.4f}\")\n",
    "print(\"Classification Report:\")\n",
    "print(test_eval[\"report\"])\n",
    "\n",
    "sns.heatmap(\n",
    "    test_eval[\"confusion_matrix\"],\n",
    "    annot=True,\n",
    "    fmt=\"d\",\n",
    "    cmap=\"Blues\",\n",
    "    xticklabels=[\"M\", \"F\"],\n",
    "    yticklabels=[\"M\", \"F\"],\n",
    ")\n",
    "plt.xlabel(\"Predicted\")\n",
    "plt.ylabel(\"Actual\")\n",
    "plt.title(\"Test Confusion Matrix\")\n",
    "plt.show()\n",
    "\n",
    "print(\"=\" * 30)\n",
    "print(\"Evaluation complete.\")"
   ]
  },
  {
   "cell_type": "code",
   "execution_count": 40,
   "metadata": {},
   "outputs": [
    {
     "name": "stdout",
     "output_type": "stream",
     "text": [
      "Pipeline total execution time: 30.14 minutes\n",
      "All tasks completed successfully.\n"
     ]
    }
   ],
   "source": [
    "# End the timer\n",
    "end_time = time.time()\n",
    "execution_time = end_time - start_time\n",
    "execution_time_in_minutes = execution_time / 60\n",
    "print(f\"Pipeline total execution time: {execution_time_in_minutes:.2f} minutes\")\n",
    "# print(f\"Pipeline total execution time: {execution_time:.2f} seconds\")\n",
    "print(\"All tasks completed successfully.\")"
   ]
  }
 ],
 "metadata": {
  "kernelspec": {
   "display_name": "venv",
   "language": "python",
   "name": "python3"
  },
  "language_info": {
   "codemirror_mode": {
    "name": "ipython",
    "version": 3
   },
   "file_extension": ".py",
   "mimetype": "text/x-python",
   "name": "python",
   "nbconvert_exporter": "python",
   "pygments_lexer": "ipython3",
   "version": "3.13.1"
  }
 },
 "nbformat": 4,
 "nbformat_minor": 2
}
