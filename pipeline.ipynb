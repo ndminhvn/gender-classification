{
 "cells": [
  {
   "cell_type": "markdown",
   "metadata": {},
   "source": [
    "# Pipeline in Jupyter Notebook"
   ]
  },
  {
   "cell_type": "code",
   "execution_count": 1,
   "metadata": {},
   "outputs": [
    {
     "name": "stderr",
     "output_type": "stream",
     "text": [
      "[nltk_data] Downloading package punkt_tab to venv/nltk_data...\n",
      "[nltk_data]   Package punkt_tab is already up-to-date!\n",
      "[nltk_data] Downloading package stopwords to venv/nltk_data...\n",
      "[nltk_data]   Package stopwords is already up-to-date!\n"
     ]
    },
    {
     "name": "stdout",
     "output_type": "stream",
     "text": [
      "Data loaded successfully from: data/raw/gender-classification.csv\n",
      "Data preprocessing completed successfully!\n",
      "Processed data saved at: data/processed/processed_data.csv\n"
     ]
    }
   ],
   "source": [
    "from src.data_preprocessing import load_data, preprocess_data, save_processed_data\n",
    "\n",
    "# Load and preprocess data\n",
    "raw_data_path = \"data/raw/gender-classification.csv\"\n",
    "processed_data_path = \"data/processed\"\n",
    "processed_data_filename = \"processed_data.csv\"\n",
    "text_column = \"text\"\n",
    "label_column = \"gender\"\n",
    "\n",
    "# Load raw data (csv file)\n",
    "raw_data = load_data(raw_data_path)\n",
    "\n",
    "# Preprocess data\n",
    "preprocessed_data = preprocess_data(raw_data, text_column, label_column)\n",
    "\n",
    "# Save preprocessed data to a csv file\n",
    "save_processed_data(\n",
    "    preprocessed_data, processed_data_path, processed_data_filename\n",
    ")"
   ]
  },
  {
   "cell_type": "code",
   "execution_count": 2,
   "metadata": {},
   "outputs": [
    {
     "name": "stdout",
     "output_type": "stream",
     "text": [
      "Data loaded successfully from: data/processed/processed_data.csv\n"
     ]
    }
   ],
   "source": [
    "# Load preprocessed data\n",
    "df = load_data(f\"{processed_data_path}/{processed_data_filename}\")"
   ]
  },
  {
   "cell_type": "code",
   "execution_count": null,
   "metadata": {},
   "outputs": [
    {
     "name": "stderr",
     "output_type": "stream",
     "text": [
      "[nltk_data] Downloading package wordnet to venv/nltk_data...\n",
      "[nltk_data]   Package wordnet is already up-to-date!\n",
      "[nltk_data] Downloading package omw-1.4 to venv/nltk_data...\n",
      "[nltk_data]   Package omw-1.4 is already up-to-date!\n"
     ]
    },
    {
     "name": "stdout",
     "output_type": "stream",
     "text": [
      "Augmented data saved at: data/processed/augmented_data.csv\n"
     ]
    }
   ],
   "source": [
    "# Data Augmentation\n",
    "from src.data_augmentation import augment_text, add_augmented_data_to_dataframe, save_augmented_data\n",
    "\n",
    "# Add augmented data to the preprocessed data\n",
    "augmented_data = add_augmented_data_to_dataframe(df, text_column, label_column)\n",
    "save_augmented_data(augmented_data, processed_data_path, \"augmented_data.csv\")"
   ]
  },
  {
   "cell_type": "code",
   "execution_count": null,
   "metadata": {},
   "outputs": [],
   "source": [
    "# Load augmented data\n",
    "df = load_data(f\"{processed_data_path}/augmented_data.csv\")"
   ]
  }
 ],
 "metadata": {
  "kernelspec": {
   "display_name": "venv",
   "language": "python",
   "name": "python3"
  },
  "language_info": {
   "codemirror_mode": {
    "name": "ipython",
    "version": 3
   },
   "file_extension": ".py",
   "mimetype": "text/x-python",
   "name": "python",
   "nbconvert_exporter": "python",
   "pygments_lexer": "ipython3",
   "version": "3.13.1"
  }
 },
 "nbformat": 4,
 "nbformat_minor": 2
}
